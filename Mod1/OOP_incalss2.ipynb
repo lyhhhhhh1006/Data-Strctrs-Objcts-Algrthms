{
 "cells": [
  {
   "cell_type": "code",
   "execution_count": 17,
   "metadata": {},
   "outputs": [],
   "source": [
    "class ToyData:\n",
    "\n",
    "    def __init__(self, size): #initialize a Toydata instance\n",
    "        self._data = [] #create a list for attribute _data\n",
    "        self._size = size #create an attribute called _size\n",
    "\n",
    "    def generate(self): \n",
    "        import random\n",
    "        self._data += [random.random() for i in range(self._size)] #randomly generate _size floating point values between 0 and 1 and store them into _data\n",
    "        return self._data #return _data\n",
    "\n",
    "    def display(self):\n",
    "        import matplotlib.pyplot as plt\n",
    "        plt.hist(self._data) # display in a figure a histogram of the values in _data\n",
    "        plt.show()\n",
    "    "
   ]
  },
  {
   "cell_type": "code",
   "execution_count": 18,
   "metadata": {},
   "outputs": [
    {
     "data": {
      "image/png": "[encoded data removed]",
      "text/plain": [
       "<Figure size 432x288 with 1 Axes>"
      ]
     },
     "metadata": {
      "needs_background": "light"
     },
     "output_type": "display_data"
    }
   ],
   "source": [
    "if __name__=='__main__': #test my Toydata class\n",
    "    test = ToyData(100) #initialize the value of test size as 100\n",
    "    test.generate() \n",
    "    test.display()\n"
   ]
  }
 ],
 "metadata": {
  "kernelspec": {
   "display_name": "Python 3.8.8 ('base')",
   "language": "python",
   "name": "python3"
  },
  "language_info": {
   "codemirror_mode": {
    "name": "ipython",
    "version": 3
   },
   "file_extension": ".py",
   "mimetype": "text/x-python",
   "name": "python",
   "nbconvert_exporter": "python",
   "pygments_lexer": "ipython3",
   "version": "3.8.8"
  },
  "orig_nbformat": 4,
  "vscode": {
   "interpreter": {
    "hash": "9b1bd9fb3b83a6e330406190c1aec31ed28667ad6a98da3693c58f5feb698ebb"
   }
  }
 },
 "nbformat": 4,
 "nbformat_minor": 2
}
