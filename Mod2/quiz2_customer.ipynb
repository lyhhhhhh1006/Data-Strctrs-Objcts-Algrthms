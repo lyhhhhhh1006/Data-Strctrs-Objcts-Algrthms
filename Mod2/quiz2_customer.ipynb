{
 "cells": [
  {
   "cell_type": "markdown",
   "metadata": {},
   "source": [
    "Quiz 2\n",
    "\n",
    "Part 1.\n",
    "\n",
    "Implement a Class Definition for the following Class. Include a constructor that initializes all member variables and both \"getter\" and \"setter\" member methods for each attribute.\n",
    "\n",
    "Class:  Customer\n",
    "Member Variables:  __name, __age, __address, and __paymentMethod "
   ]
  },
  {
   "cell_type": "code",
   "execution_count": 2,
   "metadata": {},
   "outputs": [],
   "source": [
    "class Customer:\n",
    "\n",
    "    def __init__(self, name = None, age = None, address = None, paymentMethod = None):\n",
    "        self.__name = name\n",
    "        self.__age = age\n",
    "        self.__address = address\n",
    "        self.__paymentMethod = paymentMethod\n",
    "    \n",
    "    def get_name(self):\n",
    "        return self.__name\n",
    "\n",
    "    def get_age(self):\n",
    "        return self.__age\n",
    "\n",
    "    def get_address(self):\n",
    "        return self.__address\n",
    "\n",
    "    def get_paymentMethod(self):\n",
    "        return self.__paymentMethod\n",
    "\n",
    "    def set_name(self, name_new):\n",
    "        self.__name = name_new\n",
    "\n",
    "    def set_age(self, age_new):\n",
    "        self.__age = age_new\n",
    "\n",
    "    def set_address(self, adds_new):\n",
    "        self.__address = adds_new\n",
    "\n",
    "    def set_paymentMethod(self, paymeth_new):\n",
    "        self.__paymentMethod = paymeth_new\n",
    "    "
   ]
  },
  {
   "cell_type": "code",
   "execution_count": 8,
   "metadata": {},
   "outputs": [
    {
     "name": "stdout",
     "output_type": "stream",
     "text": [
      "Before any updates:\n",
      "Yihui\n",
      "24\n",
      "gtown\n",
      "applepay\n",
      "\n",
      "\n",
      "After updates:\n",
      "Maddie\n",
      "42\n",
      "georgetown\n",
      "ApplePay\n"
     ]
    }
   ],
   "source": [
    "if __name__ == \"__main__\":\n",
    "    customer_def = Customer(\"Yihui\", 24, \"gtown\", \"applepay\") #initialize all the variables\n",
    "    print(\"Before any updates:\")\n",
    "    print(customer_def.get_name())\n",
    "    print(customer_def.get_age())\n",
    "    print(customer_def.get_address())\n",
    "    print(customer_def.get_paymentMethod())\n",
    "\n",
    "#implement \"setter\" methods\n",
    "    customer_def.set_name('Maddie')\n",
    "    customer_def.set_age(42)\n",
    "    customer_def.set_address('georgetown')\n",
    "    customer_def.set_paymentMethod('ApplePay')\n",
    "    print(\"\\n\")\n",
    "    print(\"After updates:\")\n",
    "    print(customer_def.get_name())\n",
    "    print(customer_def.get_age())\n",
    "    print(customer_def.get_address())\n",
    "    print(customer_def.get_paymentMethod())"
   ]
  },
  {
   "cell_type": "markdown",
   "metadata": {},
   "source": [
    "Part 2.\n",
    "\n",
    "Assume you are implementing a subclass named VIPcustomer from superclass Customer. Assume all members will be inherited; however, VIPcustomers have an additional member variable __vipID initialized by the constructor. Implement the class definition for class VIPcustomer -- take full advantage of inheritance but include all appropriate getters and setters. "
   ]
  },
  {
   "cell_type": "code",
   "execution_count": 3,
   "metadata": {},
   "outputs": [],
   "source": [
    "class VIPcustomer(Customer):\n",
    "\n",
    "    def __init__(self, name = None, age = None, address = None, paymentMethod = None, vipID = None):\n",
    "        super().__init__(name,age,address,paymentMethod)\n",
    "        self.__vipID = vipID\n",
    "\n",
    "    def get_vipID(self):\n",
    "        return self.__vipID\n",
    "    \n",
    "    def set_vipID(self, vipID_new):\n",
    "        self.__vipID = vipID_new\n"
   ]
  },
  {
   "cell_type": "code",
   "execution_count": 6,
   "metadata": {},
   "outputs": [
    {
     "name": "stdout",
     "output_type": "stream",
     "text": [
      "Before any updates:\n",
      "Yihui\n",
      "24\n",
      "gtown\n",
      "applepay\n",
      "yl1353\n",
      "\n",
      "\n",
      "After updates:\n",
      "Maddie\n",
      "42\n",
      "georgetown\n",
      "ApplePay\n",
      "YL1353\n"
     ]
    }
   ],
   "source": [
    "if __name__ == \"__main__\":\n",
    "    vipcustomer_def = VIPcustomer(\"Yihui\", 24, \"gtown\", \"applepay\",\"yl1353\") #initialize all the variables\n",
    "    print(\"Before any updates:\")\n",
    "    print(vipcustomer_def.get_name())\n",
    "    print(vipcustomer_def.get_age())\n",
    "    print(vipcustomer_def.get_address())\n",
    "    print(vipcustomer_def.get_paymentMethod())\n",
    "    print(vipcustomer_def.get_vipID())\n",
    "\n",
    "#implement \"setter\" methods\n",
    "    vipcustomer_def.set_name('Maddie')\n",
    "    vipcustomer_def.set_age(42)\n",
    "    vipcustomer_def.set_address('georgetown')\n",
    "    vipcustomer_def.set_paymentMethod('ApplePay')\n",
    "    vipcustomer_def.set_vipID('YL1353')\n",
    "    print(\"\\n\")\n",
    "    print(\"After updates:\")\n",
    "    print(vipcustomer_def.get_name())\n",
    "    print(vipcustomer_def.get_age())\n",
    "    print(vipcustomer_def.get_address())\n",
    "    print(vipcustomer_def.get_paymentMethod())\n",
    "    print(vipcustomer_def.get_vipID())"
   ]
  }
 ],
 "metadata": {
  "kernelspec": {
   "display_name": "Python 3.10.8 64-bit",
   "language": "python",
   "name": "python3"
  },
  "language_info": {
   "codemirror_mode": {
    "name": "ipython",
    "version": 3
   },
   "file_extension": ".py",
   "mimetype": "text/x-python",
   "name": "python",
   "nbconvert_exporter": "python",
   "pygments_lexer": "ipython3",
   "version": "3.10.8"
  },
  "orig_nbformat": 4,
  "vscode": {
   "interpreter": {
    "hash": "b0fa6594d8f4cbf19f97940f81e996739fb7646882a419484c72d19e05852a7e"
   }
  }
 },
 "nbformat": 4,
 "nbformat_minor": 2
}
