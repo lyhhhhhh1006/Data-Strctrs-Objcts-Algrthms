{
 "cells": [
  {
   "cell_type": "markdown",
   "metadata": {},
   "source": [
    "DISCUSSION 1:\n",
    "\n",
    "The value of pi can be estimated using the following infinite series:\n",
    "\n",
    "pi/4 = 1 - 1/3 + 1/5 - 1/7 ... "
   ]
  },
  {
   "cell_type": "markdown",
   "metadata": {},
   "source": [
    "1) Write a Python function computePi4(numTerms) that computes this estimate up to iteration numTerms."
   ]
  },
  {
   "cell_type": "code",
   "execution_count": 1,
   "metadata": {},
   "outputs": [],
   "source": [
    "def computePi4(numTerms):\n",
    "    \n",
    "    pi4 = 0 #initial value of pi4\n",
    "\n",
    "    for i in range(numTerms):\n",
    "        pi4 += (-1) ** i / (2 * i + 1) #add to or substract from the pi4 depends on whether i is an even or odd value\n",
    "    \n",
    "    return pi4"
   ]
  },
  {
   "cell_type": "code",
   "execution_count": 2,
   "metadata": {},
   "outputs": [
    {
     "data": {
      "text/plain": [
       "0.7440115440115441"
      ]
     },
     "execution_count": 2,
     "metadata": {},
     "output_type": "execute_result"
    }
   ],
   "source": [
    "#compute\n",
    "computePi4(6)"
   ]
  },
  {
   "cell_type": "markdown",
   "metadata": {},
   "source": [
    "2) Try the above using comprehension syntax . "
   ]
  },
  {
   "cell_type": "code",
   "execution_count": 8,
   "metadata": {},
   "outputs": [],
   "source": [
    "def computePi4_cs(numTerms):\n",
    "    pi4 = sum([(-1) ** i / (2 * i + 1) for i in range(numTerms)]) #sum all of the elements using comprehension syntax\n",
    "    return pi4"
   ]
  },
  {
   "cell_type": "code",
   "execution_count": 9,
   "metadata": {},
   "outputs": [
    {
     "data": {
      "text/plain": [
       "0.7440115440115441"
      ]
     },
     "execution_count": 9,
     "metadata": {},
     "output_type": "execute_result"
    }
   ],
   "source": [
    "#compute\n",
    "computePi4_cs(6)"
   ]
  },
  {
   "cell_type": "markdown",
   "metadata": {},
   "source": [
    "3) A sequence is a list of objects. Using numTerms as the maximum index into a sequence, one can use computePi4 to compute a sequence to estimate pi/4, where each new number in the sequence is an estimate of pi/4 that \"more closely\" approaches to the actual value. Write a generator function in Python that generates this sequence using a yield statement (for delayed evaluation).  This is similar to #1 except you will be using a yield statement. "
   ]
  },
  {
   "cell_type": "code",
   "execution_count": 13,
   "metadata": {},
   "outputs": [],
   "source": [
    "def computePi4_y(numTerms):\n",
    "    \n",
    "    pi4 = 0 #initial value of pi4\n",
    "\n",
    "    for i in range(numTerms):\n",
    "        pi4 += (-1) ** i / (2 * i + 1) #add to or substract from the pi4 depends on whether i is an even or odd value\n",
    "    \n",
    "        yield pi4 #generate sequence using yield statement"
   ]
  },
  {
   "cell_type": "code",
   "execution_count": 14,
   "metadata": {},
   "outputs": [
    {
     "name": "stdout",
     "output_type": "stream",
     "text": [
      "1.0\n",
      "0.6666666666666667\n",
      "0.8666666666666667\n",
      "0.7238095238095239\n",
      "0.8349206349206351\n",
      "0.7440115440115441\n"
     ]
    }
   ],
   "source": [
    "#generate the sequence\n",
    "for seq in computePi4_y(6):\n",
    "    print(seq)"
   ]
  }
 ],
 "metadata": {
  "kernelspec": {
   "display_name": "Python 3.8.8 ('base')",
   "language": "python",
   "name": "python3"
  },
  "language_info": {
   "codemirror_mode": {
    "name": "ipython",
    "version": 3
   },
   "file_extension": ".py",
   "mimetype": "text/x-python",
   "name": "python",
   "nbconvert_exporter": "python",
   "pygments_lexer": "ipython3",
   "version": "3.8.8"
  },
  "orig_nbformat": 4,
  "vscode": {
   "interpreter": {
    "hash": "9b1bd9fb3b83a6e330406190c1aec31ed28667ad6a98da3693c58f5feb698ebb"
   }
  }
 },
 "nbformat": 4,
 "nbformat_minor": 2
}
