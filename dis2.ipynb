{
 "cells": [
  {
   "cell_type": "markdown",
   "metadata": {},
   "source": [
    "Implement a Matrix class that allows for matrix addition and multiplication. Make reasonable and appropriate design decisions and justify them in comments or in the discussion board. (If addition and multiplication are undefined, then throw an exception.)\n",
    "You will implement operator overloading so that the '+' and '*' symbols can be used. "
   ]
  },
  {
   "cell_type": "code",
   "execution_count": 10,
   "metadata": {},
   "outputs": [],
   "source": [
    "class Matrix:\n",
    "    \n",
    "    def __init__(self, elements, by, nrow=None):\n",
    "        self.__elements = elements\n",
    "        self.num_elements = len(elements)\n",
    "        self.nrow = nrow if nrow!=None else self.num_elements\n",
    "        matrix=[]\n",
    "        \n",
    "        if by in ['row','col']:\n",
    "            #if number of elements is not matched for 'nrow', raise error.\n",
    "            if self.num_elements%self.nrow != 0:\n",
    "                raise ValueError('Unmatched number of elements')\n",
    "            #if 'nrow' is missing, raise error\n",
    "            if nrow == None:\n",
    "                raise ValueError('Since generate matrix by row/col, parameter \"nrow\" is needed')\n",
    "            #if 'nrow' type is not integer raise error\n",
    "            if type(nrow) != int:\n",
    "                raise TypeError('Parameter \"nrow\" must be integer')\n",
    "\n",
    "            self.ncol = self.num_elements//nrow\n",
    "            \n",
    "            #generate by row\n",
    "            if by == 'row':\n",
    "                for i in range(self.nrow):\n",
    "                    row = [self.__elements[i*self.ncol+j] for j in range(self.ncol)]\n",
    "                    matrix.append(row)\n",
    "                    \n",
    "            #generate by col         \n",
    "            if by == 'col':\n",
    "                for i in range(self.nrow):\n",
    "                    row = [self.__elements[j*self.ncol+i] for j in range(self.ncol)]\n",
    "                    matrix.append(row)\n",
    "        \n",
    "        #generate by diag \n",
    "        elif by == 'diag':\n",
    "            self.ncol = self.nrow\n",
    "            for i in range(self.nrow):\n",
    "                row = [0]*self.ncol\n",
    "                row[i] = self.__elements[i]\n",
    "                matrix.append(row)\n",
    "        \n",
    "        self.matrix = matrix\n",
    "        \n",
    "    #define a way to get the matrix\n",
    "    def get_matrix(self):\n",
    "        return self.matrix\n",
    "    \n",
    "    def __add__(self, addend):\n",
    "        #make a copy of the matrix, and use it to get the summation matrix.\n",
    "\n",
    "        result = copy.deepcopy(self)\n",
    "        #if addend is an instance of Matrix, then check dimension compatibility first.\n",
    "        if isinstance(addend, Matrix):\n",
    "            if not(self.nrow == addend.nrow and self.ncol == addend.ncol):\n",
    "                raise ValueError('Unmatched Matrix Dimension')\n",
    "            for i in range(result.nrow):\n",
    "                for j in range(result.ncol):\n",
    "                    result.matrix[i][j] = result.matrix[i][j]+addend.matrix[i][j]\n",
    "            return result.matrix\n",
    "        \n",
    "        #if addend is a number,then check the type first.\n",
    "        elif type(addend) in [int,float]:\n",
    "            for i in range(result.nrow):\n",
    "                for j in range(result.ncol):\n",
    "                    result.matrix[i][j] = result.matrix[i][j]+addend\n",
    "            return result.matrix\n",
    "        \n",
    "        #I only consider addition for Matrix, int and float number at this moment.\n",
    "        else:\n",
    "            raise TypeError('Illegal Input Addend')\n",
    "    \n",
    "    def __mul__(self, multiplier):\n",
    "        #if multiplier is an instance of Matrix, then check dimension compatibility first.\n",
    "\n",
    "        if isinstance(multiplier, Matrix):\n",
    "            if not self.nrow == multiplier.ncol:\n",
    "                raise ValueError('Unmatched Matrix Dimension')\n",
    "            #For Matrix(m,k) multiply Matrix(k,n)here I generate a zero Matrix instance with dim(m,n) to restore the output.\n",
    "            result = Matrix(elements=[0]*(self.nrow*multiplier.ncol),by='row',nrow=self.nrow)\n",
    "            for i in range(result.nrow):\n",
    "                for j in range(multiplier.ncol):\n",
    "                    result.matrix[i][j]=sum(self.matrix[i][k]*multiplier.matrix[k][j] for k in range(self.ncol))\n",
    "            return result.matrix\n",
    "        \n",
    "        #if multiplier is a number, then check the type first.\n",
    "        elif type(multiplier) in [int,float]:\n",
    "            #make a copy of the matrix, and use it to get the multiplication matrix.\n",
    "            import copy\n",
    "            result = copy.deepcopy(self)\n",
    "            for i in range(self.nrow):\n",
    "                for j in range(self.ncol):\n",
    "                    result.matrix[i][j] = result.matrix[i][j]*multiplier\n",
    "            return result.matrix\n",
    "        \n",
    "        #I only consider multiplication for Matrix, int and float number at this moment.\n",
    "        else:\n",
    "            raise TypeError('Illegal Input Multiplier')"
   ]
  },
  {
   "cell_type": "code",
   "execution_count": 2,
   "metadata": {},
   "outputs": [
    {
     "name": "stdout",
     "output_type": "stream",
     "text": [
      "A: [[1, 2, 3], [4, 5, 6], [7, 8, 9]]\n",
      "B: [[1, 4, 7], [2, 5, 8], [3, 6, 9]]\n",
      "C: [[1, 0, 0], [0, 2, 0], [0, 0, 3]]\n",
      "A+B: [[2, 6, 10], [6, 10, 14], [10, 14, 18]]\n",
      "A*B: [[14, 32, 50], [32, 77, 122], [50, 122, 194]]\n"
     ]
    }
   ],
   "source": [
    "if __name__=='__main__':\n",
    "    A = Matrix(elements=[1,2,3,4,5,6,7,8,9],by='row',nrow=3)\n",
    "    B = Matrix(elements=[1,2,3,4,5,6,7,8,9],by='col',nrow=3)\n",
    "    C = Matrix(elements=[1,2,3],by='diag')\n",
    "    print('A:', A.get_matrix())\n",
    "    print('B:', B.get_matrix())\n",
    "    print('C:', C.get_matrix())\n",
    "    print('A+B:', A+B)\n",
    "    print('A*B:', A*B)"
   ]
  },
  {
   "cell_type": "code",
   "execution_count": 7,
   "metadata": {},
   "outputs": [
    {
     "name": "stdout",
     "output_type": "stream",
     "text": [
      "A: [[1, 2, 3], [4, 5, 6], [7, 8, 9]]\n",
      "B: [[1, 3], [2, 4], [3, 5]]\n"
     ]
    },
    {
     "ename": "ValueError",
     "evalue": "Unmatched Matrix Dimension",
     "output_type": "error",
     "traceback": [
      "\u001b[0;31m---------------------------------------------------------------------------\u001b[0m",
      "\u001b[0;31mValueError\u001b[0m                                Traceback (most recent call last)",
      "Cell \u001b[0;32mIn [7], line 6\u001b[0m\n\u001b[1;32m      4\u001b[0m \u001b[38;5;28mprint\u001b[39m(\u001b[38;5;124m'\u001b[39m\u001b[38;5;124mA:\u001b[39m\u001b[38;5;124m'\u001b[39m, A\u001b[38;5;241m.\u001b[39mget_matrix())\n\u001b[1;32m      5\u001b[0m \u001b[38;5;28mprint\u001b[39m(\u001b[38;5;124m'\u001b[39m\u001b[38;5;124mB:\u001b[39m\u001b[38;5;124m'\u001b[39m, B\u001b[38;5;241m.\u001b[39mget_matrix())\n\u001b[0;32m----> 6\u001b[0m \u001b[38;5;28mprint\u001b[39m(\u001b[43mA\u001b[49m\u001b[38;5;241;43m+\u001b[39;49m\u001b[43mB\u001b[49m)\n",
      "Cell \u001b[0;32mIn [6], line 56\u001b[0m, in \u001b[0;36mMatrix.__add__\u001b[0;34m(self, addend)\u001b[0m\n\u001b[1;32m     54\u001b[0m \u001b[38;5;28;01mif\u001b[39;00m \u001b[38;5;28misinstance\u001b[39m(addend, Matrix):\n\u001b[1;32m     55\u001b[0m     \u001b[38;5;28;01mif\u001b[39;00m \u001b[38;5;129;01mnot\u001b[39;00m(\u001b[38;5;28mself\u001b[39m\u001b[38;5;241m.\u001b[39mnrow \u001b[38;5;241m==\u001b[39m addend\u001b[38;5;241m.\u001b[39mnrow \u001b[38;5;129;01mand\u001b[39;00m \u001b[38;5;28mself\u001b[39m\u001b[38;5;241m.\u001b[39mncol \u001b[38;5;241m==\u001b[39m addend\u001b[38;5;241m.\u001b[39mncol):\n\u001b[0;32m---> 56\u001b[0m         \u001b[38;5;28;01mraise\u001b[39;00m \u001b[38;5;167;01mValueError\u001b[39;00m(\u001b[38;5;124m'\u001b[39m\u001b[38;5;124mUnmatched Matrix Dimension\u001b[39m\u001b[38;5;124m'\u001b[39m)\n\u001b[1;32m     57\u001b[0m     \u001b[38;5;28;01mfor\u001b[39;00m i \u001b[38;5;129;01min\u001b[39;00m \u001b[38;5;28mrange\u001b[39m(result\u001b[38;5;241m.\u001b[39mnrow):\n\u001b[1;32m     58\u001b[0m         \u001b[38;5;28;01mfor\u001b[39;00m j \u001b[38;5;129;01min\u001b[39;00m \u001b[38;5;28mrange\u001b[39m(result\u001b[38;5;241m.\u001b[39mncol):\n",
      "\u001b[0;31mValueError\u001b[0m: Unmatched Matrix Dimension"
     ]
    }
   ],
   "source": [
    "#Unmatched length for addtion\n",
    "A = Matrix(elements=[1,2,3,4,5,6,7,8,9],by='row',nrow=3)\n",
    "B = Matrix(elements=[1,2,3,4,5,6],by='col',nrow=3)\n",
    "print('A:', A.get_matrix())\n",
    "print('B:', B.get_matrix())\n",
    "print(A+B)"
   ]
  },
  {
   "cell_type": "code",
   "execution_count": 8,
   "metadata": {},
   "outputs": [
    {
     "name": "stdout",
     "output_type": "stream",
     "text": [
      "A: [[1, 2, 3], [4, 5, 6], [7, 8, 9]]\n",
      "B: [[1, 3], [2, 4], [3, 5]]\n"
     ]
    },
    {
     "ename": "ValueError",
     "evalue": "Unmatched Matrix Dimension",
     "output_type": "error",
     "traceback": [
      "\u001b[0;31m---------------------------------------------------------------------------\u001b[0m",
      "\u001b[0;31mValueError\u001b[0m                                Traceback (most recent call last)",
      "Cell \u001b[0;32mIn [8], line 6\u001b[0m\n\u001b[1;32m      4\u001b[0m \u001b[38;5;28mprint\u001b[39m(\u001b[38;5;124m'\u001b[39m\u001b[38;5;124mA:\u001b[39m\u001b[38;5;124m'\u001b[39m, A\u001b[38;5;241m.\u001b[39mget_matrix())\n\u001b[1;32m      5\u001b[0m \u001b[38;5;28mprint\u001b[39m(\u001b[38;5;124m'\u001b[39m\u001b[38;5;124mB:\u001b[39m\u001b[38;5;124m'\u001b[39m, B\u001b[38;5;241m.\u001b[39mget_matrix())\n\u001b[0;32m----> 6\u001b[0m \u001b[38;5;28mprint\u001b[39m(\u001b[43mA\u001b[49m\u001b[38;5;241;43m*\u001b[39;49m\u001b[43mB\u001b[49m)\n",
      "Cell \u001b[0;32mIn [6], line 78\u001b[0m, in \u001b[0;36mMatrix.__mul__\u001b[0;34m(self, multiplier)\u001b[0m\n\u001b[1;32m     76\u001b[0m \u001b[38;5;28;01mif\u001b[39;00m \u001b[38;5;28misinstance\u001b[39m(multiplier, Matrix):\n\u001b[1;32m     77\u001b[0m     \u001b[38;5;28;01mif\u001b[39;00m \u001b[38;5;129;01mnot\u001b[39;00m \u001b[38;5;28mself\u001b[39m\u001b[38;5;241m.\u001b[39mnrow \u001b[38;5;241m==\u001b[39m multiplier\u001b[38;5;241m.\u001b[39mncol:\n\u001b[0;32m---> 78\u001b[0m         \u001b[38;5;28;01mraise\u001b[39;00m \u001b[38;5;167;01mValueError\u001b[39;00m(\u001b[38;5;124m'\u001b[39m\u001b[38;5;124mUnmatched Matrix Dimension\u001b[39m\u001b[38;5;124m'\u001b[39m)\n\u001b[1;32m     79\u001b[0m     \u001b[38;5;66;03m#For Matrix(m,k) multiply Matrix(k,n)here I generate a zero Matrix instance with dim(m,n) to restore the output.\u001b[39;00m\n\u001b[1;32m     80\u001b[0m     result \u001b[38;5;241m=\u001b[39m Matrix(elements\u001b[38;5;241m=\u001b[39m[\u001b[38;5;241m0\u001b[39m]\u001b[38;5;241m*\u001b[39m(\u001b[38;5;28mself\u001b[39m\u001b[38;5;241m.\u001b[39mnrow\u001b[38;5;241m*\u001b[39mmultiplier\u001b[38;5;241m.\u001b[39mncol),by\u001b[38;5;241m=\u001b[39m\u001b[38;5;124m'\u001b[39m\u001b[38;5;124mrow\u001b[39m\u001b[38;5;124m'\u001b[39m,nrow\u001b[38;5;241m=\u001b[39m\u001b[38;5;28mself\u001b[39m\u001b[38;5;241m.\u001b[39mnrow)\n",
      "\u001b[0;31mValueError\u001b[0m: Unmatched Matrix Dimension"
     ]
    }
   ],
   "source": [
    "#Unmatched length for inner-product\n",
    "A=Matrix(elements=[1,2,3,4,5,6,7,8,9],by='row',nrow=3)\n",
    "B=Matrix(elements=[1,2,3,4,5,6],by='col',nrow=3)\n",
    "print('A:', A.get_matrix())\n",
    "print('B:', B.get_matrix())\n",
    "print(A*B)"
   ]
  },
  {
   "cell_type": "code",
   "execution_count": 11,
   "metadata": {},
   "outputs": [
    {
     "ename": "ValueError",
     "evalue": "Unmatched number of elements",
     "output_type": "error",
     "traceback": [
      "\u001b[0;31m---------------------------------------------------------------------------\u001b[0m",
      "\u001b[0;31mValueError\u001b[0m                                Traceback (most recent call last)",
      "Cell \u001b[0;32mIn [11], line 2\u001b[0m\n\u001b[1;32m      1\u001b[0m \u001b[38;5;66;03m#Unmatched num_elements for generating\u001b[39;00m\n\u001b[0;32m----> 2\u001b[0m A \u001b[38;5;241m=\u001b[39m \u001b[43mMatrix\u001b[49m\u001b[43m(\u001b[49m\u001b[43melements\u001b[49m\u001b[38;5;241;43m=\u001b[39;49m\u001b[43m[\u001b[49m\u001b[38;5;241;43m1\u001b[39;49m\u001b[43m,\u001b[49m\u001b[38;5;241;43m2\u001b[39;49m\u001b[43m,\u001b[49m\u001b[38;5;241;43m3\u001b[39;49m\u001b[43m,\u001b[49m\u001b[38;5;241;43m4\u001b[39;49m\u001b[43m,\u001b[49m\u001b[38;5;241;43m5\u001b[39;49m\u001b[43m,\u001b[49m\u001b[38;5;241;43m6\u001b[39;49m\u001b[43m,\u001b[49m\u001b[38;5;241;43m7\u001b[39;49m\u001b[43m,\u001b[49m\u001b[38;5;241;43m8\u001b[39;49m\u001b[43m,\u001b[49m\u001b[38;5;241;43m9\u001b[39;49m\u001b[43m]\u001b[49m\u001b[43m,\u001b[49m\u001b[43mby\u001b[49m\u001b[38;5;241;43m=\u001b[39;49m\u001b[38;5;124;43m'\u001b[39;49m\u001b[38;5;124;43mrow\u001b[39;49m\u001b[38;5;124;43m'\u001b[39;49m\u001b[43m,\u001b[49m\u001b[43mnrow\u001b[49m\u001b[38;5;241;43m=\u001b[39;49m\u001b[38;5;241;43m4\u001b[39;49m\u001b[43m)\u001b[49m\n\u001b[1;32m      3\u001b[0m \u001b[38;5;28mprint\u001b[39m(\u001b[38;5;124m'\u001b[39m\u001b[38;5;124mA:\u001b[39m\u001b[38;5;124m'\u001b[39m, A\u001b[38;5;241m.\u001b[39mget_matrix())\n",
      "Cell \u001b[0;32mIn [10], line 12\u001b[0m, in \u001b[0;36mMatrix.__init__\u001b[0;34m(self, elements, by, nrow)\u001b[0m\n\u001b[1;32m      9\u001b[0m \u001b[38;5;28;01mif\u001b[39;00m by \u001b[38;5;129;01min\u001b[39;00m [\u001b[38;5;124m'\u001b[39m\u001b[38;5;124mrow\u001b[39m\u001b[38;5;124m'\u001b[39m,\u001b[38;5;124m'\u001b[39m\u001b[38;5;124mcol\u001b[39m\u001b[38;5;124m'\u001b[39m]:\n\u001b[1;32m     10\u001b[0m     \u001b[38;5;66;03m#if number of elements is not matched for 'nrow', raise error.\u001b[39;00m\n\u001b[1;32m     11\u001b[0m     \u001b[38;5;28;01mif\u001b[39;00m \u001b[38;5;28mself\u001b[39m\u001b[38;5;241m.\u001b[39mnum_elements\u001b[38;5;241m%\u001b[39m\u001b[38;5;28mself\u001b[39m\u001b[38;5;241m.\u001b[39mnrow \u001b[38;5;241m!=\u001b[39m \u001b[38;5;241m0\u001b[39m:\n\u001b[0;32m---> 12\u001b[0m         \u001b[38;5;28;01mraise\u001b[39;00m \u001b[38;5;167;01mValueError\u001b[39;00m(\u001b[38;5;124m'\u001b[39m\u001b[38;5;124mUnmatched number of elements\u001b[39m\u001b[38;5;124m'\u001b[39m)\n\u001b[1;32m     13\u001b[0m     \u001b[38;5;66;03m#if 'nrow' is missing, raise error\u001b[39;00m\n\u001b[1;32m     14\u001b[0m     \u001b[38;5;28;01mif\u001b[39;00m nrow \u001b[38;5;241m==\u001b[39m \u001b[38;5;28;01mNone\u001b[39;00m:\n",
      "\u001b[0;31mValueError\u001b[0m: Unmatched number of elements"
     ]
    }
   ],
   "source": [
    "#Unmatched num_elements for generating\n",
    "A = Matrix(elements=[1,2,3,4,5,6,7,8,9],by='row',nrow=4)\n",
    "print('A:', A.get_matrix())"
   ]
  },
  {
   "cell_type": "code",
   "execution_count": 12,
   "metadata": {},
   "outputs": [
    {
     "name": "stdout",
     "output_type": "stream",
     "text": [
      "A: [[1, 2, 3], [4, 5, 6], [7, 8, 9]]\n"
     ]
    },
    {
     "ename": "TypeError",
     "evalue": "Illegal Input Addend",
     "output_type": "error",
     "traceback": [
      "\u001b[0;31m---------------------------------------------------------------------------\u001b[0m",
      "\u001b[0;31mTypeError\u001b[0m                                 Traceback (most recent call last)",
      "Cell \u001b[0;32mIn [12], line 4\u001b[0m\n\u001b[1;32m      2\u001b[0m A\u001b[38;5;241m=\u001b[39mMatrix(elements\u001b[38;5;241m=\u001b[39m[\u001b[38;5;241m1\u001b[39m,\u001b[38;5;241m2\u001b[39m,\u001b[38;5;241m3\u001b[39m,\u001b[38;5;241m4\u001b[39m,\u001b[38;5;241m5\u001b[39m,\u001b[38;5;241m6\u001b[39m,\u001b[38;5;241m7\u001b[39m,\u001b[38;5;241m8\u001b[39m,\u001b[38;5;241m9\u001b[39m],by\u001b[38;5;241m=\u001b[39m\u001b[38;5;124m'\u001b[39m\u001b[38;5;124mrow\u001b[39m\u001b[38;5;124m'\u001b[39m,nrow\u001b[38;5;241m=\u001b[39m\u001b[38;5;241m3\u001b[39m)\n\u001b[1;32m      3\u001b[0m \u001b[38;5;28mprint\u001b[39m(\u001b[38;5;124m'\u001b[39m\u001b[38;5;124mA:\u001b[39m\u001b[38;5;124m'\u001b[39m,A\u001b[38;5;241m.\u001b[39mget_matrix())\n\u001b[0;32m----> 4\u001b[0m \u001b[38;5;28mprint\u001b[39m(\u001b[43mA\u001b[49m\u001b[38;5;241;43m+\u001b[39;49m\u001b[38;5;124;43m'\u001b[39;49m\u001b[38;5;124;43mlyh\u001b[39;49m\u001b[38;5;124;43m'\u001b[39;49m)\n",
      "Cell \u001b[0;32mIn [10], line 71\u001b[0m, in \u001b[0;36mMatrix.__add__\u001b[0;34m(self, addend)\u001b[0m\n\u001b[1;32m     67\u001b[0m     \u001b[38;5;28;01mreturn\u001b[39;00m result\u001b[38;5;241m.\u001b[39mmatrix\n\u001b[1;32m     69\u001b[0m \u001b[38;5;66;03m#I only consider addition for Matrix, int and float number at this moment.\u001b[39;00m\n\u001b[1;32m     70\u001b[0m \u001b[38;5;28;01melse\u001b[39;00m:\n\u001b[0;32m---> 71\u001b[0m     \u001b[38;5;28;01mraise\u001b[39;00m \u001b[38;5;167;01mTypeError\u001b[39;00m(\u001b[38;5;124m'\u001b[39m\u001b[38;5;124mIllegal Input Addend\u001b[39m\u001b[38;5;124m'\u001b[39m)\n",
      "\u001b[0;31mTypeError\u001b[0m: Illegal Input Addend"
     ]
    }
   ],
   "source": [
    "#Invalid Input for addtion\n",
    "A = Matrix(elements=[1,2,3,4,5,6,7,8,9],by='row',nrow=3)\n",
    "print('A:',A.get_matrix())\n",
    "print(A+'lyh')"
   ]
  },
  {
   "cell_type": "code",
   "execution_count": 13,
   "metadata": {},
   "outputs": [
    {
     "name": "stdout",
     "output_type": "stream",
     "text": [
      "A: [[1, 2, 3], [4, 5, 6], [7, 8, 9]]\n"
     ]
    },
    {
     "ename": "TypeError",
     "evalue": "Illegal Input Multiplier",
     "output_type": "error",
     "traceback": [
      "\u001b[0;31m---------------------------------------------------------------------------\u001b[0m",
      "\u001b[0;31mTypeError\u001b[0m                                 Traceback (most recent call last)",
      "Cell \u001b[0;32mIn [13], line 4\u001b[0m\n\u001b[1;32m      2\u001b[0m A \u001b[38;5;241m=\u001b[39m Matrix(elements\u001b[38;5;241m=\u001b[39m[\u001b[38;5;241m1\u001b[39m,\u001b[38;5;241m2\u001b[39m,\u001b[38;5;241m3\u001b[39m,\u001b[38;5;241m4\u001b[39m,\u001b[38;5;241m5\u001b[39m,\u001b[38;5;241m6\u001b[39m,\u001b[38;5;241m7\u001b[39m,\u001b[38;5;241m8\u001b[39m,\u001b[38;5;241m9\u001b[39m],by\u001b[38;5;241m=\u001b[39m\u001b[38;5;124m'\u001b[39m\u001b[38;5;124mrow\u001b[39m\u001b[38;5;124m'\u001b[39m,nrow\u001b[38;5;241m=\u001b[39m\u001b[38;5;241m3\u001b[39m)\n\u001b[1;32m      3\u001b[0m \u001b[38;5;28mprint\u001b[39m(\u001b[38;5;124m'\u001b[39m\u001b[38;5;124mA:\u001b[39m\u001b[38;5;124m'\u001b[39m, A\u001b[38;5;241m.\u001b[39mget_matrix())\n\u001b[0;32m----> 4\u001b[0m \u001b[38;5;28mprint\u001b[39m(\u001b[43mA\u001b[49m\u001b[38;5;241;43m*\u001b[39;49m\u001b[38;5;124;43m'\u001b[39;49m\u001b[38;5;124;43mlyh\u001b[39;49m\u001b[38;5;124;43m'\u001b[39;49m)\n",
      "Cell \u001b[0;32mIn [10], line 98\u001b[0m, in \u001b[0;36mMatrix.__mul__\u001b[0;34m(self, multiplier)\u001b[0m\n\u001b[1;32m     94\u001b[0m     \u001b[38;5;28;01mreturn\u001b[39;00m result\u001b[38;5;241m.\u001b[39mmatrix\n\u001b[1;32m     96\u001b[0m \u001b[38;5;66;03m#I only consider multiplication for Matrix, int and float number at this moment.\u001b[39;00m\n\u001b[1;32m     97\u001b[0m \u001b[38;5;28;01melse\u001b[39;00m:\n\u001b[0;32m---> 98\u001b[0m     \u001b[38;5;28;01mraise\u001b[39;00m \u001b[38;5;167;01mTypeError\u001b[39;00m(\u001b[38;5;124m'\u001b[39m\u001b[38;5;124mIllegal Input Multiplier\u001b[39m\u001b[38;5;124m'\u001b[39m)\n",
      "\u001b[0;31mTypeError\u001b[0m: Illegal Input Multiplier"
     ]
    }
   ],
   "source": [
    "#Invalid Input for multiplication\n",
    "A = Matrix(elements=[1,2,3,4,5,6,7,8,9],by='row',nrow=3)\n",
    "print('A:', A.get_matrix())\n",
    "print(A*'lyh')"
   ]
  },
  {
   "cell_type": "markdown",
   "metadata": {},
   "source": [
    "Implement a Vector class that inherets from the Matrix class. It will inheret addition and multiplication (inner product) but will also have a multiplication method for an outer product (choose an intuitive symbol). (If addition and multiplication are undefined due to size mismatch, then throw an exception.)"
   ]
  },
  {
   "cell_type": "code",
   "execution_count": 14,
   "metadata": {},
   "outputs": [],
   "source": [
    "class Vector(Matrix):\n",
    "\n",
    "    def __init__(self,elements):\n",
    "        super().__init__(elements,by='row',nrow=1)\n",
    "        self.vector = elements\n",
    "        self.num_elements = len(self.vector)\n",
    "\n",
    "    def get_vector(self):\n",
    "        return self.vector\n",
    "\n",
    "    #I overload '**' for outer product\n",
    "    def __pow__(self,multiplier):\n",
    "        #Check multiplier type and length compatibility.\n",
    "\n",
    "        if not isinstance(multiplier,Vector):\n",
    "            raise TypeError('Multiplier must also be a Vector instance')\n",
    "        if not self.num_elements == multiplier.num_elements: \n",
    "            raise ValueError('Unmatched Vector length')\n",
    "\n",
    "        #Transpose the matrix for calculation, since AXB=transpose(A)*B\n",
    "        self_transpose = Matrix(self.vector,by='col',nrow=multiplier.num_elements)\n",
    "        result = self_transpose.__mul__(multiplier)\n",
    "        return result"
   ]
  },
  {
   "cell_type": "code",
   "execution_count": 15,
   "metadata": {},
   "outputs": [
    {
     "name": "stdout",
     "output_type": "stream",
     "text": [
      "A: [1, 2, 3]\n",
      "B: [4, 5, 6]\n",
      "AXB: [[4, 5, 6], [8, 10, 12], [12, 15, 18]]\n"
     ]
    }
   ],
   "source": [
    "A = Vector([1,2,3])\n",
    "B = Vector([4,5,6])\n",
    "print('A:', A.get_vector())\n",
    "print('B:', B.get_vector())\n",
    "print('AXB:', A**B)"
   ]
  }
 ],
 "metadata": {
  "kernelspec": {
   "display_name": "Python 3.10.8 64-bit",
   "language": "python",
   "name": "python3"
  },
  "language_info": {
   "codemirror_mode": {
    "name": "ipython",
    "version": 3
   },
   "file_extension": ".py",
   "mimetype": "text/x-python",
   "name": "python",
   "nbconvert_exporter": "python",
   "pygments_lexer": "ipython3",
   "version": "3.10.8"
  },
  "orig_nbformat": 4,
  "vscode": {
   "interpreter": {
    "hash": "b0fa6594d8f4cbf19f97940f81e996739fb7646882a419484c72d19e05852a7e"
   }
  }
 },
 "nbformat": 4,
 "nbformat_minor": 2
}
