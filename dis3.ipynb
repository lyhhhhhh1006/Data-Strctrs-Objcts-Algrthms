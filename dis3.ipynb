{
 "cells": [
  {
   "cell_type": "markdown",
   "metadata": {},
   "source": [
    "Consider the following. You are tasked with design the most efficient algorithm to complete the following task. Implement a function findMedian(n) that\n",
    "\n",
    "randomly generates n floating point values between 0 and 100. (Feel free to use random library)\n",
    "\n",
    "compute and return the median value. Do not use a pre-existing median function or sorting function, but instead code it \"from scratch\". I encourage you to think about this design individually without the use of internet resources. That is one of the main goals of this exercise -- translate your sequence of steps needed to compute the median to Python code! Hint: First consider what steps you would take to find the median yourself. Next, write down these steps. Finally, translate these steps into Python Code. "
   ]
  },
  {
   "cell_type": "code",
   "execution_count": 1,
   "metadata": {},
   "outputs": [],
   "source": [
    "def findMedian(n):\n",
    "\n",
    "    import random\n",
    "    import time\n",
    "    start_time = time.time()\n",
    "\n",
    "    num_list = []\n",
    "    for i in range (n):\n",
    "        ran_num = random.uniform(0,100)\n",
    "        num_list.append(ran_num)\n",
    "        sorted_data = sorted(num_list)\n",
    "        length = len(sorted_data)\n",
    "\n",
    "    # if n is an even number\n",
    "    if (length%2) == 0:\n",
    "        median = sorted_data[length // 2]\n",
    "    \n",
    "    # if n is an odd number\n",
    "    if (length%2) > 0:\n",
    "        median1 = sorted_data[length // 2]\n",
    "        median2 = sorted_data[(length // 2) - 1]\n",
    "        median = (median1 + median2)/2\n",
    "\n",
    "    end_time = time.time()\n",
    "    time_consump = end_time - start_time\n",
    "\n",
    "    print(\"Median:\", median)\n",
    "    print(\"Running time:\", time_consump)\n"
   ]
  },
  {
   "cell_type": "code",
   "execution_count": 2,
   "metadata": {},
   "outputs": [
    {
     "name": "stdout",
     "output_type": "stream",
     "text": [
      "Median: 48.18919690243325\n",
      "Running time: 0.00011086463928222656\n"
     ]
    }
   ],
   "source": [
    "findMedian(3)"
   ]
  }
 ],
 "metadata": {
  "kernelspec": {
   "display_name": "Python 3.8.8 ('base')",
   "language": "python",
   "name": "python3"
  },
  "language_info": {
   "codemirror_mode": {
    "name": "ipython",
    "version": 3
   },
   "file_extension": ".py",
   "mimetype": "text/x-python",
   "name": "python",
   "nbconvert_exporter": "python",
   "pygments_lexer": "ipython3",
   "version": "3.8.8"
  },
  "orig_nbformat": 4,
  "vscode": {
   "interpreter": {
    "hash": "9b1bd9fb3b83a6e330406190c1aec31ed28667ad6a98da3693c58f5feb698ebb"
   }
  }
 },
 "nbformat": 4,
 "nbformat_minor": 2
}
